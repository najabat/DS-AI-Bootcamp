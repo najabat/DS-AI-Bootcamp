{
  "nbformat": 4,
  "nbformat_minor": 0,
  "metadata": {
    "colab": {
      "provenance": []
    },
    "kernelspec": {
      "name": "python3",
      "display_name": "Python 3"
    },
    "language_info": {
      "name": "python"
    }
  },
  "cells": [
    {
      "cell_type": "code",
      "execution_count": 1,
      "metadata": {
        "id": "Qd9g5VRQPFP8"
      },
      "outputs": [],
      "source": [
        "# Largest difference in list\n",
        "def largest_difference(lst):\n",
        "    min_val = lst[0]\n",
        "    max_diff = 0\n",
        "    for num in lst[1:]:\n",
        "        if num < min_val:\n",
        "            min_val = num\n",
        "        else:\n",
        "            max_diff = max(max_diff, num - min_val)\n",
        "    return max_diff"
      ]
    },
    {
      "cell_type": "code",
      "source": [
        "largest_difference([1, 2, 90, 10, 110])"
      ],
      "metadata": {
        "colab": {
          "base_uri": "https://localhost:8080/"
        },
        "id": "El9RRCB5RzQK",
        "outputId": "63db97bd-7fb7-48a4-b9a1-d02725cd3952"
      },
      "execution_count": 3,
      "outputs": [
        {
          "output_type": "execute_result",
          "data": {
            "text/plain": [
              "109"
            ]
          },
          "metadata": {},
          "execution_count": 3
        }
      ]
    },
    {
      "cell_type": "code",
      "source": [
        "# First non-repeating Char\n",
        "def first_unique_char(s):\n",
        "    for char in s:\n",
        "        if s.count(char) == 1:\n",
        "            return char\n",
        "    return None"
      ],
      "metadata": {
        "id": "7xxkVcMWRYZZ"
      },
      "execution_count": 8,
      "outputs": []
    },
    {
      "cell_type": "code",
      "source": [
        "first_unique_char(\"aaerr\")"
      ],
      "metadata": {
        "colab": {
          "base_uri": "https://localhost:8080/",
          "height": 35
        },
        "id": "ZdQv15u_UCdb",
        "outputId": "9c35f098-55a6-410b-9daa-8e1d9ae7f133"
      },
      "execution_count": 9,
      "outputs": [
        {
          "output_type": "execute_result",
          "data": {
            "text/plain": [
              "'e'"
            ],
            "application/vnd.google.colaboratory.intrinsic+json": {
              "type": "string"
            }
          },
          "metadata": {},
          "execution_count": 9
        }
      ]
    },
    {
      "cell_type": "code",
      "source": [
        "# Check if strings are permutations\n",
        "def are_permutations(s1, s2):\n",
        "    return sorted(s1) == sorted(s2)"
      ],
      "metadata": {
        "id": "i5sZQy-HUMcu"
      },
      "execution_count": 11,
      "outputs": []
    },
    {
      "cell_type": "code",
      "source": [
        "are_permutations(\"abc\", \"cba\")"
      ],
      "metadata": {
        "colab": {
          "base_uri": "https://localhost:8080/"
        },
        "id": "mQjoSa5aUh3D",
        "outputId": "4586ef3b-710a-4fd5-892a-5f5dcaf1a2fd"
      },
      "execution_count": 12,
      "outputs": [
        {
          "output_type": "execute_result",
          "data": {
            "text/plain": [
              "True"
            ]
          },
          "metadata": {},
          "execution_count": 12
        }
      ]
    },
    {
      "cell_type": "code",
      "source": [
        "# Find the second largest unique number\n",
        "def second_largest(lst):\n",
        "    unique = list(set(lst))\n",
        "    if len(unique) < 2:\n",
        "        return None\n",
        "    unique.sort(reverse=True)\n",
        "    return unique[1]"
      ],
      "metadata": {
        "id": "Dwtmn5jkUpxo"
      },
      "execution_count": 13,
      "outputs": []
    },
    {
      "cell_type": "code",
      "source": [
        "second_largest([4,5,6,6,7])"
      ],
      "metadata": {
        "colab": {
          "base_uri": "https://localhost:8080/"
        },
        "id": "wrer6JY7VIU2",
        "outputId": "d6e6b717-5320-412c-aa62-e39da24dffc0"
      },
      "execution_count": 15,
      "outputs": [
        {
          "output_type": "execute_result",
          "data": {
            "text/plain": [
              "6"
            ]
          },
          "metadata": {},
          "execution_count": 15
        }
      ]
    },
    {
      "cell_type": "code",
      "source": [
        "# Count distinct pairs\n",
        "def count_pairs(lst, target):\n",
        "    seen = set()\n",
        "    pairs = set()\n",
        "    for num in lst:\n",
        "        diff = target - num\n",
        "        if diff in seen:\n",
        "            pairs.add(tuple(sorted((num, diff))))\n",
        "        seen.add(num)\n",
        "    return len(pairs)"
      ],
      "metadata": {
        "id": "_RYCV651VYqZ"
      },
      "execution_count": 17,
      "outputs": []
    },
    {
      "cell_type": "code",
      "source": [
        "count_pairs([1, 2, 3, 4, 5], 6)"
      ],
      "metadata": {
        "colab": {
          "base_uri": "https://localhost:8080/"
        },
        "id": "hPhLwmcHVl3u",
        "outputId": "4afc0320-0db4-42ac-98b7-a3148cad3cf8"
      },
      "execution_count": 18,
      "outputs": [
        {
          "output_type": "execute_result",
          "data": {
            "text/plain": [
              "2"
            ]
          },
          "metadata": {},
          "execution_count": 18
        }
      ]
    },
    {
      "cell_type": "code",
      "source": [
        "# Remove duplicate from list\n",
        "def remove_duplicates(lst):\n",
        "    result = []\n",
        "    for num in lst:\n",
        "        if num not in result:\n",
        "            result.append(num)\n",
        "    return result"
      ],
      "metadata": {
        "id": "u-mMN4ePV3Sv"
      },
      "execution_count": 19,
      "outputs": []
    },
    {
      "cell_type": "code",
      "source": [
        "remove_duplicates([1,2,3,4,5,4,3,5])"
      ],
      "metadata": {
        "colab": {
          "base_uri": "https://localhost:8080/"
        },
        "id": "vBQ5oiEDV-6F",
        "outputId": "074935da-704a-4afc-ec52-fa4b5d91ec6f"
      },
      "execution_count": 20,
      "outputs": [
        {
          "output_type": "execute_result",
          "data": {
            "text/plain": [
              "[1, 2, 3, 4, 5]"
            ]
          },
          "metadata": {},
          "execution_count": 20
        }
      ]
    },
    {
      "cell_type": "code",
      "source": [
        "#subset of list\n",
        "def subsets(lst):\n",
        "    result = [[]]\n",
        "    for num in lst:\n",
        "        result += [item + [num] for item in result]\n",
        "    return result"
      ],
      "metadata": {
        "id": "LReicvaJVzu_"
      },
      "execution_count": 21,
      "outputs": []
    },
    {
      "cell_type": "code",
      "source": [
        "subsets([1,2,3])"
      ],
      "metadata": {
        "colab": {
          "base_uri": "https://localhost:8080/"
        },
        "id": "Cpwjpiw6WUdq",
        "outputId": "55957804-8cb0-41bb-9927-2019932e78e3"
      },
      "execution_count": 22,
      "outputs": [
        {
          "output_type": "execute_result",
          "data": {
            "text/plain": [
              "[[], [1], [2], [1, 2], [3], [1, 3], [2, 3], [1, 2, 3]]"
            ]
          },
          "metadata": {},
          "execution_count": 22
        }
      ]
    },
    {
      "cell_type": "code",
      "source": [
        "# Longest increasing subsequence\n",
        "def lis_length(lst):\n",
        "    if not lst:\n",
        "        return 0\n",
        "    dp = [1] * len(lst)\n",
        "    for i in range(len(lst)):\n",
        "        for j in range(i):\n",
        "            if lst[i] > lst[j]:\n",
        "                dp[i] = max(dp[i], dp[j] + 1)\n",
        "    return max(dp)"
      ],
      "metadata": {
        "id": "mwoAlvJjWY4j"
      },
      "execution_count": 23,
      "outputs": []
    },
    {
      "cell_type": "code",
      "source": [
        "lis_length([10, 9, 2, 5, 3, 7, 101, 18])"
      ],
      "metadata": {
        "colab": {
          "base_uri": "https://localhost:8080/"
        },
        "id": "lQ8Ra-dWWj3w",
        "outputId": "96e14084-a2b8-4228-a545-b7fe3a168d84"
      },
      "execution_count": 24,
      "outputs": [
        {
          "output_type": "execute_result",
          "data": {
            "text/plain": [
              "4"
            ]
          },
          "metadata": {},
          "execution_count": 24
        }
      ]
    },
    {
      "cell_type": "code",
      "source": [
        "# Maximum product of two numbers\n",
        "def max_product(lst):\n",
        "    lst.sort()\n",
        "    return max(lst[0]*lst[1], lst[-1]*lst[-2])"
      ],
      "metadata": {
        "id": "125qnMJkWwuu"
      },
      "execution_count": 25,
      "outputs": []
    },
    {
      "cell_type": "code",
      "source": [
        "max_product([1,2,3,4,5])"
      ],
      "metadata": {
        "colab": {
          "base_uri": "https://localhost:8080/"
        },
        "id": "L1wlXDSXXIbe",
        "outputId": "065b6703-b2a5-4c14-d7f4-e59f8ed70a8c"
      },
      "execution_count": 26,
      "outputs": [
        {
          "output_type": "execute_result",
          "data": {
            "text/plain": [
              "20"
            ]
          },
          "metadata": {},
          "execution_count": 26
        }
      ]
    },
    {
      "cell_type": "code",
      "source": [
        "# Frequency of Characters in string\n",
        "def most_frequent_char(s):\n",
        "    max_count = 0\n",
        "    result = ''\n",
        "    for char in set(s):\n",
        "        count = s.count(char)\n",
        "        if count > max_count or (count == max_count and char < result):\n",
        "            max_count = count\n",
        "            result = char\n",
        "    return result"
      ],
      "metadata": {
        "id": "_QSzO4fxXfrp"
      },
      "execution_count": 27,
      "outputs": []
    },
    {
      "cell_type": "code",
      "source": [
        "most_frequent_char(\"aabbbcc\")"
      ],
      "metadata": {
        "colab": {
          "base_uri": "https://localhost:8080/",
          "height": 35
        },
        "id": "vk9S7_y6XyF9",
        "outputId": "0e825574-eff2-44fe-d74c-6c1de0a72ebe"
      },
      "execution_count": 29,
      "outputs": [
        {
          "output_type": "execute_result",
          "data": {
            "text/plain": [
              "'b'"
            ],
            "application/vnd.google.colaboratory.intrinsic+json": {
              "type": "string"
            }
          },
          "metadata": {},
          "execution_count": 29
        }
      ]
    },
    {
      "cell_type": "code",
      "source": [],
      "metadata": {
        "id": "qmssFDEXUT_5"
      },
      "execution_count": null,
      "outputs": []
    }
  ]
}
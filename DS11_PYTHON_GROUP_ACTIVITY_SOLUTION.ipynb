{
  "nbformat": 4,
  "nbformat_minor": 0,
  "metadata": {
    "colab": {
      "provenance": [],
      "include_colab_link": true
    },
    "kernelspec": {
      "name": "python3",
      "display_name": "Python 3"
    },
    "language_info": {
      "name": "python"
    }
  },
  "cells": [
    {
      "cell_type": "markdown",
      "metadata": {
        "id": "view-in-github",
        "colab_type": "text"
      },
      "source": [
        "<a href=\"https://colab.research.google.com/github/najabat/DS-AI-Bootcamp/blob/main/DS11_PYTHON_GROUP_ACTIVITY_SOLUTION.ipynb\" target=\"_parent\"><img src=\"https://colab.research.google.com/assets/colab-badge.svg\" alt=\"Open In Colab\"/></a>"
      ]
    },
    {
      "cell_type": "markdown",
      "source": [
        "1. Intro to Functions: Defining & Calling Simple Functions"
      ],
      "metadata": {
        "id": "qsjINVdx-xae"
      }
    },
    {
      "cell_type": "code",
      "source": [
        "# Simple function definition\n",
        "def greet(name):\n",
        "    return f\"Hello, {name}!\"\n",
        "\n",
        "# Calling the function\n",
        "print(greet(\"Alice\"))\n"
      ],
      "metadata": {
        "id": "EpZm83S5-wV-"
      },
      "execution_count": null,
      "outputs": []
    },
    {
      "cell_type": "code",
      "source": [
        "def sum(a,b,c):\n",
        "  print(\"using function 1\")\n",
        "  return a+b+c\n",
        "\n",
        "def sum(a,b):\n",
        "  print(\"using function 2\")\n",
        "  return a+b\n",
        "\n",
        "\n"
      ],
      "metadata": {
        "id": "OmHYaAVaHurO"
      },
      "execution_count": null,
      "outputs": []
    },
    {
      "cell_type": "code",
      "source": [
        "sum(1,3)"
      ],
      "metadata": {
        "colab": {
          "base_uri": "https://localhost:8080/"
        },
        "id": "LOuWWP2_IKqB",
        "outputId": "97b8e57a-d872-4681-c52a-6d03ca851e00"
      },
      "execution_count": null,
      "outputs": [
        {
          "output_type": "stream",
          "name": "stdout",
          "text": [
            "using function 2\n"
          ]
        },
        {
          "output_type": "execute_result",
          "data": {
            "text/plain": [
              "4"
            ]
          },
          "metadata": {},
          "execution_count": 9
        }
      ]
    },
    {
      "cell_type": "code",
      "source": [
        "sum(1,2)"
      ],
      "metadata": {
        "colab": {
          "base_uri": "https://localhost:8080/"
        },
        "id": "DKANUeJDH3nX",
        "outputId": "d77d0fbd-ce6d-4428-9726-91e27c5a8fc6"
      },
      "execution_count": null,
      "outputs": [
        {
          "output_type": "stream",
          "name": "stdout",
          "text": [
            "using function 2\n"
          ]
        },
        {
          "output_type": "execute_result",
          "data": {
            "text/plain": [
              "3"
            ]
          },
          "metadata": {},
          "execution_count": 3
        }
      ]
    },
    {
      "cell_type": "markdown",
      "source": [
        "Advanced Functions: Arguments: *args, kwargs\n",
        "*args: Allows passing a variable number of positional arguments (as a tuple).\n",
        "\n",
        "**kwargs: Allows passing a variable number of keyword arguments (as a dictionary)."
      ],
      "metadata": {
        "id": "ocweZAoM-2rj"
      }
    },
    {
      "cell_type": "code",
      "source": [
        "# Using *args (for variable number of arguments)\n",
        "def add_numbers(*args):\n",
        "    return sum(args)\n",
        "\n",
        "print(add_numbers(1, 2, 3))  # Output: 6\n",
        "print(add_numbers(5, 10, 15, 20))  # Output: 50\n",
        "\n",
        "# Using **kwargs (for variable number of keyword arguments)\n",
        "def describe_person(**kwargs):\n",
        "    for key, value in kwargs.items():\n",
        "        print(f\"{key}: {value}\")\n",
        "\n",
        "describe_person(name=\"John\", age=25, occupation=\"Engineer\")\n"
      ],
      "metadata": {
        "id": "LGnfzkoq-8ED"
      },
      "execution_count": null,
      "outputs": []
    },
    {
      "cell_type": "code",
      "source": [
        "def fun(arg1, *argv):  ##arg1 simple argument (not an *arg) ,*arg\n",
        "    print(\"First argument :\", arg1)\n",
        "    for word in argv:\n",
        "        print(\"Argument *argv :\", word)\n",
        "\n",
        "\n",
        "fun('Hello', 'Welcome', 'to', 'GeeksforGeeks','hello','hamna')\n"
      ],
      "metadata": {
        "colab": {
          "base_uri": "https://localhost:8080/"
        },
        "id": "fZDCwsFFJvaF",
        "outputId": "3259c72f-ae57-4554-e925-cb0ffedec2e7"
      },
      "execution_count": null,
      "outputs": [
        {
          "output_type": "stream",
          "name": "stdout",
          "text": [
            "First argument : Hello\n",
            "Argument *argv : Welcome\n",
            "Argument *argv : to\n",
            "Argument *argv : GeeksforGeeks\n",
            "Argument *argv : hello\n",
            "Argument *argv : hamna\n"
          ]
        }
      ]
    },
    {
      "cell_type": "code",
      "source": [
        "def fun(*args, **kwargs):\n",
        "    print(\"Positional arguments:\", args)\n",
        "    print(\"Keyword arguments:\", kwargs)\n",
        "\n",
        "fun(1, 2, 3, a=4, b=5)\n"
      ],
      "metadata": {
        "colab": {
          "base_uri": "https://localhost:8080/"
        },
        "id": "PU_i8R11LLfm",
        "outputId": "3bac264c-3448-4df0-adef-832d4b92e624"
      },
      "execution_count": null,
      "outputs": [
        {
          "output_type": "stream",
          "name": "stdout",
          "text": [
            "Positional arguments: (1, 2, 3)\n",
            "Keyword arguments: {'a': 4, 'b': 5}\n"
          ]
        }
      ]
    },
    {
      "cell_type": "code",
      "source": [
        "sum_10 = lambda a : a + 10\n"
      ],
      "metadata": {
        "id": "vB47Q2mELmbP"
      },
      "execution_count": null,
      "outputs": []
    },
    {
      "cell_type": "code",
      "source": [
        "sum_10(3)"
      ],
      "metadata": {
        "colab": {
          "base_uri": "https://localhost:8080/"
        },
        "id": "6AqYDvj9L2pZ",
        "outputId": "e81001c8-24db-41f7-a0fa-777ab81c6f0e"
      },
      "execution_count": null,
      "outputs": [
        {
          "output_type": "execute_result",
          "data": {
            "text/plain": [
              "13"
            ]
          },
          "metadata": {},
          "execution_count": 14
        }
      ]
    },
    {
      "cell_type": "code",
      "source": [
        "mul = lambda a,b : a*b"
      ],
      "metadata": {
        "id": "sl1jcq6tL5rt"
      },
      "execution_count": null,
      "outputs": []
    },
    {
      "cell_type": "code",
      "source": [
        "mul(2,7)"
      ],
      "metadata": {
        "colab": {
          "base_uri": "https://localhost:8080/"
        },
        "id": "PiesGr7NMAOF",
        "outputId": "f076f6b9-da22-455f-a97d-1072b14af4dc"
      },
      "execution_count": null,
      "outputs": [
        {
          "output_type": "execute_result",
          "data": {
            "text/plain": [
              "14"
            ]
          },
          "metadata": {},
          "execution_count": 17
        }
      ]
    },
    {
      "cell_type": "markdown",
      "source": [
        "3. Lambda Functions\n",
        "Lambda functions are anonymous functions defined using the lambda keyword. They are generally used for short, throwaway functions."
      ],
      "metadata": {
        "id": "pOd4UM5P_B98"
      }
    },
    {
      "cell_type": "code",
      "source": [
        "# Simple lambda function\n",
        "multiply = lambda x, y: x * y\n",
        "print(multiply(3, 4))  # Output: 12\n",
        "\n",
        "# Lambda function with map\n",
        "numbers = [1, 2, 3, 4]\n",
        "squared_numbers = list(map(lambda x: x*2, numbers))\n",
        "print(squared_numbers)  # Output: [1, 4, 9, 16]\n"
      ],
      "metadata": {
        "colab": {
          "base_uri": "https://localhost:8080/"
        },
        "id": "HbNsAqG0_Cci",
        "outputId": "18727e77-1314-4729-e21c-5556998b9565"
      },
      "execution_count": null,
      "outputs": [
        {
          "output_type": "stream",
          "name": "stdout",
          "text": [
            "12\n",
            "[2, 4, 6, 8]\n"
          ]
        }
      ]
    },
    {
      "cell_type": "markdown",
      "source": [
        "1. Largest Difference in List\n",
        "\n",
        "Problem:\n",
        "\n",
        "Given a list of integers, return the largest difference between any two elements, where the\n",
        "larger element appears after the smaller one. If no such pair exists, return 0.\n",
        "\n",
        "\n",
        "Example:\n",
        "\n",
        "Input: [1, 2, 90, 10, 110]\n",
        "\n",
        "Output: 109\n",
        "\n",
        "Explanation: The largest difference is between 1 and 110."
      ],
      "metadata": {
        "id": "HnOyBjEE6LJQ"
      }
    },
    {
      "cell_type": "code",
      "execution_count": null,
      "metadata": {
        "id": "yrRPBinn6BAA"
      },
      "outputs": [],
      "source": [
        "def max_difference(nums):\n",
        "    # If the list is empty, no pairs exist    # nums[1,5,4,9,2]\n",
        "    if not nums:\n",
        "        return 0\n",
        "\n",
        "    # Initialize the minimum value to the first element\n",
        "    min_val = nums[0]\n",
        "\n",
        "    # Initialize the maximum difference to 0\n",
        "    max_diff = 0\n",
        "\n",
        "    # Iterate over the list starting from the second element\n",
        "    for num in nums[1:]:\n",
        "        if num > min_val:\n",
        "            # If current number is greater than min_val, calculate the difference                      # max_diff = 4\n",
        "            # and update max_diff if this difference is greater than the previous max_diff\n",
        "            max_diff = max(max_diff, num - min_val)\n",
        "        else:\n",
        "            # If current number is smaller or equal, update min_val\n",
        "            # because it might be a better candidate for future differences\n",
        "            min_val = num\n",
        "\n",
        "    # Return the largest difference found (or 0 if no valid pair was found)\n",
        "    return max_diff\n",
        "\n"
      ]
    },
    {
      "cell_type": "code",
      "source": [
        "l = [1,5,4,9,2]\n",
        "max_difference(l)"
      ],
      "metadata": {
        "colab": {
          "base_uri": "https://localhost:8080/"
        },
        "id": "HYgMcwNDPCv1",
        "outputId": "1eb96219-8aea-466c-b09b-6df0bc963baf"
      },
      "execution_count": null,
      "outputs": [
        {
          "output_type": "execute_result",
          "data": {
            "text/plain": [
              "8"
            ]
          },
          "metadata": {},
          "execution_count": 21
        }
      ]
    },
    {
      "cell_type": "markdown",
      "source": [
        "2. First Non-Repeating Character\n",
        "Problem:\n",
        "Given a string, return the first non-repeating character. If there are no non-repeating characters,\n",
        "return None."
      ],
      "metadata": {
        "id": "I_SmSJYX7AHc"
      }
    },
    {
      "cell_type": "code",
      "source": [
        "def first_non_repeating_char(s):\n",
        "    # Step 1: Create a dictionary to store character counts\n",
        "    char_count = {}                # hello    h:1, e:1, l:2, o:1\n",
        "\n",
        "    # Count each character's frequency\n",
        "    for char in s:\n",
        "        if char in char_count:\n",
        "            char_count[char] += 1\n",
        "        else:\n",
        "            char_count[char] = 1\n",
        "\n",
        "    # Step 2: Find the first character with count 1\n",
        "    for char in s:\n",
        "        if char_count[char] == 1:\n",
        "            return char  # First non-repeating character found\n",
        "\n",
        "    # Step 3: If no such character exists\n",
        "    return None\n"
      ],
      "metadata": {
        "id": "aLr7iIxE7ETb"
      },
      "execution_count": null,
      "outputs": []
    },
    {
      "cell_type": "markdown",
      "source": [
        "3. Check If Strings Are Permutations\n",
        "Problem:\n",
        "Given two strings, write a function to check if one is a permutation of the other. Return True if\n",
        "they are permutations, False otherwise."
      ],
      "metadata": {
        "id": "97KFVsLI7Qhi"
      }
    },
    {
      "cell_type": "code",
      "source": [
        "def are_permutations(str1, str2):\n",
        "    # Step 1: If lengths differ, they can't be permutations      # abc, bca .... abc , dab, abcd, abc\n",
        "    if len(str1) != len(str2):\n",
        "        return False\n",
        "\n",
        "    # Step 2: Create dictionaries to count character frequencies         {a:1, b:1, c:1} =  {b:1,c:1,a:1}\n",
        "\n",
        "    char_count1 = {}\n",
        "    char_count2 = {}\n",
        "\n",
        "    # Count characters in the first string\n",
        "    for char in str1:\n",
        "        char_count1[char] = char_count1.get(char, 0) + 1\n",
        "\n",
        "    # Count characters in the second string\n",
        "    for char in str2:\n",
        "        char_count2[char] = char_count2.get(char, 0) + 1\n",
        "\n",
        "    # Step 3: Compare both dictionaries\n",
        "    return char_count1 == char_count2\n"
      ],
      "metadata": {
        "id": "yCwleydT7S8U"
      },
      "execution_count": null,
      "outputs": []
    },
    {
      "cell_type": "markdown",
      "source": [
        "4. Problem:\n",
        "Given a list of integers, return the second largest unique number. If no second largest unique\n",
        "number exists, return None.\n",
        "Example:\n",
        "Input: [4, 5, 6, 6, 7]\n",
        "Output: 6\n",
        "Explanation: The second largest unique number is 6."
      ],
      "metadata": {
        "id": "vTu0gGPp7vuZ"
      }
    },
    {
      "cell_type": "code",
      "source": [
        "def second_largest_unique(nums):\n",
        "    # Step 1: Count frequencies of each number\n",
        "    freq = {}\n",
        "    for num in nums:\n",
        "        freq[num] = freq.get(num, 0) + 1\n",
        "\n",
        "    # Step 2: Filter to get only unique numbers (appearing once)\n",
        "    unique_numbers = [num for num in freq if freq[num] == 1]\n",
        "\n",
        "    # Step 3: Sort unique numbers in descending order\n",
        "    unique_numbers.sort(reverse=True)\n",
        "\n",
        "    # Step 4: Return second largest if it exists\n",
        "    if len(unique_numbers) >= 2:\n",
        "        return unique_numbers[1]\n",
        "    else:\n",
        "        return None\n"
      ],
      "metadata": {
        "id": "i7vDDeiP7z1b"
      },
      "execution_count": null,
      "outputs": []
    },
    {
      "cell_type": "markdown",
      "source": [
        "5. Count Distinct Pairs\n",
        "Problem:\n",
        "Given a list of integers and a target sum, count how many distinct pairs of integers in the list\n",
        "sum up to the target."
      ],
      "metadata": {
        "id": "vXINOzuA76-I"
      }
    },
    {
      "cell_type": "code",
      "source": [
        "def count_distinct_pairs(nums, target):\n",
        "    seen = set()          # To track numbers we've seen so far\n",
        "    pairs = set()         # To store unique pairs that sum to target\n",
        "\n",
        "    for num in nums:\n",
        "        complement = target - num                      # Input: [1, 2, 3, 4, 3, 6], Target: 6  6-2 = 4    (2,4)\n",
        "        if complement in seen:\n",
        "            # Store the pair in sorted order to avoid duplicates like (2, 3) and (3, 2)\n",
        "            pairs.add(tuple(sorted((num, complement))))\n",
        "        seen.add(num)  # Add the current number to the seen set\n",
        "\n",
        "    # Return the number of distinct valid pairs found\n",
        "    return len(pairs)\n"
      ],
      "metadata": {
        "id": "Vg4AUZUx7_w7"
      },
      "execution_count": null,
      "outputs": []
    },
    {
      "cell_type": "code",
      "source": [
        "l =  [1, 2, 3, 4, 3, 6]\n",
        "count_distinct_pairs(l,6)"
      ],
      "metadata": {
        "colab": {
          "base_uri": "https://localhost:8080/"
        },
        "id": "yKmZJb7dU-lt",
        "outputId": "a7c168ea-15dc-4fe3-c020-651532ec6714"
      },
      "execution_count": null,
      "outputs": [
        {
          "output_type": "execute_result",
          "data": {
            "text/plain": [
              "2"
            ]
          },
          "metadata": {},
          "execution_count": 23
        }
      ]
    },
    {
      "cell_type": "markdown",
      "source": [
        "6. Remove Duplicates from List\n",
        "Problem:\n",
        "Given a list of integers, remove all duplicates while maintaining the order of their first\n",
        "occurrence."
      ],
      "metadata": {
        "id": "NDOupSFV8F9_"
      }
    },
    {
      "cell_type": "code",
      "source": [
        "def remove_duplicates(nums):\n",
        "    seen = set()       # Keeps track of elements we've already seen\n",
        "    result = []        # Stores the result list without duplicates\n",
        "\n",
        "    for num in nums:\n",
        "        if num not in seen:\n",
        "            seen.add(num)       # Mark this number as seen\n",
        "            result.append(num)  # Add it to result list\n",
        "\n",
        "    return result\n"
      ],
      "metadata": {
        "id": "e0UA6fAw8Kun"
      },
      "execution_count": null,
      "outputs": []
    },
    {
      "cell_type": "markdown",
      "source": [
        "7. Subsets of a List\n",
        "Problem:\n",
        "Given a list of integers, return all possible subsets (the power set) of the list."
      ],
      "metadata": {
        "id": "QKzXeg5O8Quy"
      }
    },
    {
      "cell_type": "code",
      "source": [
        "def subsets(nums):\n",
        "    result = [[]]  # Start with the empty subset\n",
        "\n",
        "    for num in nums:\n",
        "        # For every existing subset, add a new subset that includes the current number\n",
        "        new_subsets = [curr + [num] for curr in result]\n",
        "        result.extend(new_subsets)  # Add the new subsets to the result list\n",
        "\n",
        "    return result\n"
      ],
      "metadata": {
        "id": "S0SfwztX8TpH"
      },
      "execution_count": null,
      "outputs": []
    },
    {
      "cell_type": "markdown",
      "source": [
        "8. Longest Increasing Subsequence\n",
        "Problem:\n",
        "Given a list of integers, find the length of the longest subsequence of strictly increasing\n",
        "elements."
      ],
      "metadata": {
        "id": "vBIJRkL68bAu"
      }
    },
    {
      "cell_type": "code",
      "source": [
        "def length_of_lis(nums):\n",
        "    if not nums:\n",
        "        return 0\n",
        "\n",
        "    n = len(nums)\n",
        "    dp = [1] * n  # dp[i] stores the length of LIS ending at index i\n",
        "\n",
        "    for i in range(1, n):\n",
        "        for j in range(i):\n",
        "            if nums[j] < nums[i]:\n",
        "                # If nums[i] can extend the LIS ending at j\n",
        "                dp[i] = max(dp[i], dp[j] + 1)\n",
        "\n",
        "    return max(dp)  # The longest among all LIS lengths\n"
      ],
      "metadata": {
        "id": "AU8iiDUN81Uf"
      },
      "execution_count": null,
      "outputs": []
    },
    {
      "cell_type": "markdown",
      "source": [
        "9. Maximum Product of Two Numbers\n",
        "Problem:\n",
        "Given a list of integers, return the maximum product of any two numbers in the list."
      ],
      "metadata": {
        "id": "W9CpcfV_84KQ"
      }
    },
    {
      "cell_type": "code",
      "source": [
        "def maxProduct(nums):\n",
        "    # Sort the list\n",
        "    nums.sort()\n",
        "\n",
        "    # Get the two largest numbers and the two smallest numbers\n",
        "    product1 = nums[-1] * nums[-2]  # product of the two largest numbers\n",
        "    product2 = nums[0] * nums[1]    # product of the two smallest numbers\n",
        "\n",
        "    # Return the maximum product\n",
        "    return max(product1, product2)\n"
      ],
      "metadata": {
        "id": "01XYqSDq86dh"
      },
      "execution_count": null,
      "outputs": []
    },
    {
      "cell_type": "markdown",
      "source": [
        "10. Frequency of Characters in String\n",
        "Problem:\n",
        "Given a string, return the character that appears most frequently. If there is a tie, return the\n",
        "lexicographically smallest character."
      ],
      "metadata": {
        "id": "UU_04lpc9AZA"
      }
    },
    {
      "cell_type": "code",
      "source": [
        "def mostFrequentCharacter(s):\n",
        "    # Initialize a dictionary to store the frequency of characters\n",
        "    freq = {}\n",
        "\n",
        "    # Count the frequency of each character\n",
        "    for char in s:\n",
        "        if char in freq:\n",
        "            freq[char] += 1\n",
        "        else:\n",
        "            freq[char] = 1\n",
        "\n",
        "    # Initialize variables to store the result character and its frequency\n",
        "    max_freq = 0\n",
        "    result_char = ''\n",
        "\n",
        "    # Iterate over the frequency dictionary\n",
        "    for char, count in freq.items():\n",
        "        # Update the result character if the current one has a higher frequency\n",
        "        # or if the frequency is the same but the character is lexicographically smaller\n",
        "        if count > max_freq or (count == max_freq and char < result_char):\n",
        "            max_freq = count\n",
        "            result_char = char\n",
        "\n",
        "    return result_char\n"
      ],
      "metadata": {
        "id": "J1fbJXyE9DO_"
      },
      "execution_count": null,
      "outputs": []
    },
    {
      "cell_type": "markdown",
      "source": [
        "11. Problem:\n",
        "Write a function that prints all prime numbers less than a given number n."
      ],
      "metadata": {
        "id": "71Rq2Zx29M59"
      }
    },
    {
      "cell_type": "code",
      "source": [
        "def print_primes(n):\n",
        "    # Loop through all numbers from 2 to n-1\n",
        "    for num in range(2, n):\n",
        "        # Assume the number is prime\n",
        "        is_prime = True\n",
        "\n",
        "        # Check if num is divisible by any number from 2 to sqrt(num)\n",
        "        for i in range(2, int(num**0.5) + 1):\n",
        "            if num % i == 0:  # If divisible, it's not prime\n",
        "                is_prime = False\n",
        "                break\n",
        "\n",
        "        # If num is prime, print it\n",
        "        if is_prime:\n",
        "            print(num)\n",
        "\n"
      ],
      "metadata": {
        "id": "xW0tnbuC9P5k"
      },
      "execution_count": null,
      "outputs": []
    },
    {
      "cell_type": "markdown",
      "source": [
        "12. Sum of Variable-Length Arguments\n",
        "Problem:\n",
        "Write a function that takes a variable number of arguments (*args) and returns the sum of all\n",
        "the numbers."
      ],
      "metadata": {
        "id": "E17wJCVC9UJC"
      }
    },
    {
      "cell_type": "code",
      "source": [
        "def sum_of_arguments(*args):\n",
        "    return sum(args)\n"
      ],
      "metadata": {
        "id": "JTymleWj9WaZ"
      },
      "execution_count": null,
      "outputs": []
    },
    {
      "cell_type": "markdown",
      "source": [
        "13. Find the Student with Highest Score\n",
        "Problem:\n",
        "Given a dictionary of students' names and their scores, write a function that returns the name of\n",
        "the student with the highest score"
      ],
      "metadata": {
        "id": "4CC9W1hB9bF6"
      }
    },
    {
      "cell_type": "code",
      "source": [
        "def student_with_highest_score(students_scores):\n",
        "    # Initialize variables to track the highest score and corresponding student\n",
        "    highest_score = -float('inf')\n",
        "    top_student = ''\n",
        "\n",
        "    # Iterate through the dictionary to find the student with the highest score\n",
        "    for student, score in students_scores.items():\n",
        "        if score > highest_score:\n",
        "            highest_score = score\n",
        "            top_student = student\n",
        "\n",
        "    return top_student\n"
      ],
      "metadata": {
        "id": "EhL4607B9fgT"
      },
      "execution_count": null,
      "outputs": []
    },
    {
      "cell_type": "markdown",
      "source": [
        "14. Apply Lambda to List\n",
        "Problem:\n",
        "Write a function that takes a list of integers and a lambda function, and returns a new list where\n",
        "the lambda function is applied to each element of the list."
      ],
      "metadata": {
        "id": "3ZMxt-Jz9mFx"
      }
    },
    {
      "cell_type": "code",
      "source": [
        "def apply_lambda_to_list(lst, func):\n",
        "    return list(map(func, lst))\n",
        "\n",
        "lst = [1, 2, 3, 4, 5]\n",
        "lambda_func = lambda x: x * 2\n",
        "\n",
        "print(apply_lambda_to_list(lst, lambda_func))  # Output will be [2, 4, 6, 8, 10]\n"
      ],
      "metadata": {
        "id": "k-rLKsrk9n0r"
      },
      "execution_count": null,
      "outputs": []
    },
    {
      "cell_type": "markdown",
      "source": [
        "15. Sum or Multiply Based on Keyword Argument\n",
        "Problem:\n",
        "Write a function that takes a variable-length list of numbers (*args) and an optional keyword\n",
        "argument operation. If operation='multiply', return the product of all the numbers;\n",
        "otherwise, return their sum."
      ],
      "metadata": {
        "id": "6DUy6B-19sVJ"
      }
    },
    {
      "cell_type": "code",
      "source": [
        "def sum_or_multiply(*args, operation='sum'):\n",
        "    if operation == 'multiply':\n",
        "        result = 1\n",
        "        for num in args:\n",
        "            result *= num\n",
        "        return result\n",
        "    else:\n",
        "        return sum(args)\n"
      ],
      "metadata": {
        "id": "esAA_jhl9vJM"
      },
      "execution_count": null,
      "outputs": []
    }
  ]
}
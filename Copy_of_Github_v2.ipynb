{
  "nbformat": 4,
  "nbformat_minor": 0,
  "metadata": {
    "colab": {
      "provenance": [],
      "include_colab_link": true
    },
    "kernelspec": {
      "name": "python3",
      "display_name": "Python 3"
    },
    "language_info": {
      "name": "python"
    }
  },
  "cells": [
    {
      "cell_type": "markdown",
      "metadata": {
        "id": "view-in-github",
        "colab_type": "text"
      },
      "source": [
        "<a href=\"https://colab.research.google.com/github/najabat/DS-AI-Bootcamp/blob/main/Copy_of_Github_v2.ipynb\" target=\"_parent\"><img src=\"https://colab.research.google.com/assets/colab-badge.svg\" alt=\"Open In Colab\"/></a>"
      ]
    },
    {
      "cell_type": "markdown",
      "source": [
        "# GitHub Workflow: Python Project Example\n",
        "\n",
        "## 1. Introduction to Git and GitHub\n",
        "\n",
        "### What is Git?\n",
        "- Version control system to track changes in code.\n",
        "- Allows you to collaborate efficiently with others.\n",
        "- Keeps a history of all changes, which can be reverted or viewed later.\n",
        "\n",
        "### What is GitHub?\n",
        "- A cloud-based platform that hosts Git repositories.\n",
        "- Allows for sharing and collaboration on projects.\n",
        "- Provides additional features like issue tracking, pull requests, and more.\n",
        "\n",
        "---\n",
        "\n",
        "## 2. Benefits of Using GitHub\n",
        "\n",
        "- **Version Control**: Keep track of code changes, work with teams, and manage multiple versions.\n",
        "- **Collaboration**: Multiple developers can work on the same project without conflicts.\n",
        "- **Backup**: Your code is stored remotely, acting as a backup.\n",
        "- **Code Review**: Other team members can review code before merging to the main branch.\n",
        "- **Public/Private Repositories**: Share your code publicly or keep it private.\n",
        "- **Integration**: Easy integration with CI/CD, project management tools, etc.\n",
        "\n",
        "---\n",
        "\n",
        "## 3. Basic Git Commands\n",
        "\n",
        "1. **Setting up Git**:\n",
        "    ```bash\n",
        "    git config --global user.name \"Your Name\"\n",
        "    git config --global user.email \"your.email@example.com\"\n",
        "    ```\n",
        "\n",
        "2. **Creating a Local Repository**:\n",
        "    ```bash\n",
        "    git init\n",
        "    ```\n",
        "\n",
        "3. **Checking the Status**:\n",
        "    ```bash\n",
        "    git status\n",
        "    ```\n",
        "\n",
        "4. **Adding Files to Staging**:\n",
        "    ```bash\n",
        "    git add <file_name>\n",
        "    # To add all files:\n",
        "    git add .\n",
        "    ```\n",
        "\n",
        "5. **Committing Changes**:\n",
        "    ```bash\n",
        "    git commit -m \"Commit message\"\n",
        "    ```\n",
        "\n",
        "6. **Creating and Pushing to Remote Repository**:\n",
        "    ```bash\n",
        "    git remote add origin <repository_url>\n",
        "    git push -u origin main\n",
        "    ```\n",
        "\n",
        "7. **Pulling Changes from Remote**:\n",
        "    ```bash\n",
        "    git pull origin main\n",
        "    ```\n",
        "\n",
        "8. **Branching and Switching Branches**:\n",
        "    ```bash\n",
        "    git checkout -b <branch_name>  # Create and switch to new branch\n",
        "    git checkout <branch_name>     # Switch to an existing branch\n",
        "    ```\n",
        "\n",
        "9. **Merging Branches**:\n",
        "    ```bash\n",
        "    git merge <branch_name>  # Merge changes from a branch to the current branch\n",
        "    ```\n",
        "\n",
        "---\n",
        "\n",
        "## 4. Practical Example: Python Project with GitHub\n",
        "\n",
        "Let's create a small Python project, push it to GitHub, create a fork, add a new functionality, and then merge it back to the main branch.\n",
        "\n",
        "---\n",
        "\n",
        "### Step-by-Step Guide\n",
        "\n",
        "1. **Create a Simple Python Project**\n",
        "\n",
        "Let's assume you have a basic Python project like a simple script for calculating factorials.\n",
        "\n",
        "```python\n",
        "# factorial.py\n",
        "def factorial(n):\n",
        "    if n == 0:\n",
        "        return 1\n",
        "    else:\n",
        "        return n * factorial(n-1)\n",
        "\n",
        "if __name__ == \"__main__\":\n",
        "    num = int(input(\"Enter a number: \"))\n",
        "    print(f\"The factorial of {num} is {factorial(num)}\")\n"
      ],
      "metadata": {
        "id": "3iQzA1HOaeVb"
      }
    },
    {
      "cell_type": "code",
      "source": [
        "!git clone https://github.com/muhammadumair894/28-feb.git\n"
      ],
      "metadata": {
        "colab": {
          "base_uri": "https://localhost:8080/"
        },
        "id": "-NzGyMmjM1I6",
        "outputId": "4e4269fe-c283-4952-f26c-bc15d107969c"
      },
      "execution_count": null,
      "outputs": [
        {
          "output_type": "stream",
          "name": "stdout",
          "text": [
            "Cloning into '28-feb'...\n",
            "remote: Enumerating objects: 19, done.\u001b[K\n",
            "remote: Counting objects: 100% (19/19), done.\u001b[K\n",
            "remote: Compressing objects: 100% (14/14), done.\u001b[K\n",
            "remote: Total 19 (delta 1), reused 0 (delta 0), pack-reused 0 (from 0)\u001b[K\n",
            "Receiving objects: 100% (19/19), 6.41 KiB | 6.41 MiB/s, done.\n",
            "Resolving deltas: 100% (1/1), done.\n"
          ]
        }
      ]
    },
    {
      "cell_type": "code",
      "source": [
        "%cd /content/28-feb"
      ],
      "metadata": {
        "colab": {
          "base_uri": "https://localhost:8080/"
        },
        "id": "lEBcD6MpNL0q",
        "outputId": "10641c83-f1e5-4ff1-e9bc-d026f9a54397"
      },
      "execution_count": null,
      "outputs": [
        {
          "output_type": "stream",
          "name": "stdout",
          "text": [
            "/content/28-feb\n"
          ]
        }
      ]
    },
    {
      "cell_type": "code",
      "source": [
        "!python hello.py"
      ],
      "metadata": {
        "colab": {
          "base_uri": "https://localhost:8080/"
        },
        "id": "UIvV5XnxM1LA",
        "outputId": "8a51c198-b288-44f2-cc30-8266ea911a2d"
      },
      "execution_count": null,
      "outputs": [
        {
          "output_type": "stream",
          "name": "stdout",
          "text": [
            "Hello World!\n",
            "0\n",
            "1\n",
            "2\n",
            "3\n",
            "4\n",
            "5\n",
            "6\n",
            "7\n",
            "8\n",
            "9\n"
          ]
        }
      ]
    },
    {
      "cell_type": "code",
      "source": [
        "for i in range(10):\n",
        "  print(i)"
      ],
      "metadata": {
        "colab": {
          "base_uri": "https://localhost:8080/"
        },
        "id": "hgjztkqY6rFw",
        "outputId": "74fc4634-4cf8-49c6-a792-2e21ce17b918"
      },
      "execution_count": null,
      "outputs": [
        {
          "output_type": "stream",
          "name": "stdout",
          "text": [
            "0\n",
            "1\n",
            "2\n",
            "3\n",
            "4\n",
            "5\n",
            "6\n",
            "7\n",
            "8\n",
            "9\n"
          ]
        }
      ]
    },
    {
      "cell_type": "code",
      "source": [
        "# we ceated a fun this and that\n",
        "def fun():\n",
        "\n",
        "\n",
        "  print(\" new functionality\") # i created this line in version 4\n",
        "\n",
        "\n",
        "\n",
        "  return"
      ],
      "metadata": {
        "id": "8xTKqsIN6sD1"
      },
      "execution_count": null,
      "outputs": []
    },
    {
      "cell_type": "code",
      "source": [
        "# we have made a change bla bla\n",
        "def fun():\n",
        "  print(\" new functionality\")\n",
        "\n",
        "  return"
      ],
      "metadata": {
        "id": "85_3FaX086OF"
      },
      "execution_count": null,
      "outputs": []
    },
    {
      "cell_type": "markdown",
      "source": [
        "# Github New br"
      ],
      "metadata": {
        "id": "KqJh3zRAJGeR"
      }
    },
    {
      "cell_type": "code",
      "source": [
        "!gh auth login"
      ],
      "metadata": {
        "id": "XriupAVqGCqj",
        "colab": {
          "base_uri": "https://localhost:8080/"
        },
        "outputId": "d4f325bd-60df-485f-8a6e-f5c952d5c7eb"
      },
      "execution_count": null,
      "outputs": [
        {
          "output_type": "stream",
          "name": "stdout",
          "text": [
            "/bin/bash: line 1: gh: command not found\n"
          ]
        }
      ]
    },
    {
      "cell_type": "code",
      "source": [
        "gti clone"
      ],
      "metadata": {
        "id": "XtM7rXHnHQth"
      },
      "execution_count": null,
      "outputs": []
    },
    {
      "cell_type": "code",
      "source": [
        "make changes"
      ],
      "metadata": {
        "id": "GZvvtHr6HS3p"
      },
      "execution_count": null,
      "outputs": []
    },
    {
      "cell_type": "code",
      "source": [
        "git checkout -b new-branch-name\n",
        "git branch"
      ],
      "metadata": {
        "id": "UrXulzToHQ0h"
      },
      "execution_count": null,
      "outputs": []
    },
    {
      "cell_type": "code",
      "source": [
        "git add main.py"
      ],
      "metadata": {
        "id": "odQKbGVvIy-J"
      },
      "execution_count": null,
      "outputs": []
    },
    {
      "cell_type": "code",
      "source": [
        "git add ."
      ],
      "metadata": {
        "id": "3fw7UcxqI2jJ"
      },
      "execution_count": null,
      "outputs": []
    },
    {
      "cell_type": "code",
      "source": [
        "git config --global user.email \"muhammadumair894@gmail.com\"\n",
        "git config --global user.name \"muhammadumair894\""
      ],
      "metadata": {
        "id": "XVvn6qpzHxt5"
      },
      "execution_count": null,
      "outputs": []
    },
    {
      "cell_type": "code",
      "source": [
        "git commit -m \"Added main.py with print\""
      ],
      "metadata": {
        "id": "sAkxPT9yI4xx"
      },
      "execution_count": null,
      "outputs": []
    },
    {
      "cell_type": "code",
      "source": [
        "git push origin uma"
      ],
      "metadata": {
        "id": "-bIYyGrhJASx"
      },
      "execution_count": null,
      "outputs": []
    },
    {
      "cell_type": "markdown",
      "source": [
        "# Github"
      ],
      "metadata": {
        "id": "E7-8BuaJJCo5"
      }
    },
    {
      "cell_type": "code",
      "source": [
        "#initialize git in your project\n",
        "%cd /content/project\n",
        "!git init\n"
      ],
      "metadata": {
        "colab": {
          "base_uri": "https://localhost:8080/"
        },
        "id": "6ZGunmE8alJG",
        "outputId": "c0b073b2-37ef-4494-8b23-cd168c9d17ff"
      },
      "execution_count": null,
      "outputs": [
        {
          "output_type": "stream",
          "name": "stdout",
          "text": [
            "/content/project\n",
            "Reinitialized existing Git repository in /content/project/.git/\n"
          ]
        }
      ]
    },
    {
      "cell_type": "code",
      "source": [
        "#add files to git\n",
        "!git add factorial.py\n"
      ],
      "metadata": {
        "id": "2BQ0cVyuaq-q"
      },
      "execution_count": null,
      "outputs": []
    },
    {
      "cell_type": "code",
      "source": [
        "!git config --global user.email \"muhammadumair894@gmail.com\"\n",
        "!git config --global user.name \"muhammadumair894\""
      ],
      "metadata": {
        "id": "9nuEYvgScuGp"
      },
      "execution_count": null,
      "outputs": []
    },
    {
      "cell_type": "code",
      "source": [
        "#Commit the code\n",
        "!git commit -m \"First commit of factorial script\"\n"
      ],
      "metadata": {
        "colab": {
          "base_uri": "https://localhost:8080/"
        },
        "id": "PpgCR_hma0yZ",
        "outputId": "f1e0c79c-0f27-482b-c81e-a082e2386c42"
      },
      "execution_count": null,
      "outputs": [
        {
          "output_type": "stream",
          "name": "stdout",
          "text": [
            "[master (root-commit) fa690bb] First commit of factorial script\n",
            " 1 file changed, 9 insertions(+)\n",
            " create mode 100644 factorial.py\n"
          ]
        }
      ]
    },
    {
      "cell_type": "markdown",
      "source": [
        "Create a GitHub Repository\n",
        "Go to GitHub and create a new repository (e.g., factorial-python). Don't initialize it with a README or .gitignore since we already have a local project."
      ],
      "metadata": {
        "id": "-MrOoF4Ga9hp"
      }
    },
    {
      "cell_type": "code",
      "source": [
        "!git branch\n"
      ],
      "metadata": {
        "colab": {
          "base_uri": "https://localhost:8080/"
        },
        "id": "hRWrBaaQdfEg",
        "outputId": "91b21346-8dde-4fb4-c7f3-301cfaf118cb"
      },
      "execution_count": null,
      "outputs": [
        {
          "output_type": "stream",
          "name": "stdout",
          "text": [
            "* \u001b[32mmaster\u001b[m\n"
          ]
        }
      ]
    },
    {
      "cell_type": "code",
      "source": [
        "!git remot -v\n"
      ],
      "metadata": {
        "colab": {
          "base_uri": "https://localhost:8080/"
        },
        "id": "7uQAvKE5d1Xl",
        "outputId": "e944a446-400b-415e-a783-ee3d4f0bd856"
      },
      "execution_count": null,
      "outputs": [
        {
          "output_type": "stream",
          "name": "stdout",
          "text": [
            "git: 'remot' is not a git command. See 'git --help'.\n",
            "\n",
            "The most similar command is\n",
            "\tremote\n"
          ]
        }
      ]
    },
    {
      "cell_type": "code",
      "source": [
        "!git --help"
      ],
      "metadata": {
        "colab": {
          "base_uri": "https://localhost:8080/"
        },
        "id": "_Bx0uNV0C3QK",
        "outputId": "a0f10aea-a3f7-4bd1-948f-b726679ec906"
      },
      "execution_count": null,
      "outputs": [
        {
          "output_type": "stream",
          "name": "stdout",
          "text": [
            "usage: git [--version] [--help] [-C <path>] [-c <name>=<value>]\n",
            "           [--exec-path[=<path>]] [--html-path] [--man-path] [--info-path]\n",
            "           [-p | --paginate | -P | --no-pager] [--no-replace-objects] [--bare]\n",
            "           [--git-dir=<path>] [--work-tree=<path>] [--namespace=<name>]\n",
            "           [--super-prefix=<path>] [--config-env=<name>=<envvar>]\n",
            "           <command> [<args>]\n",
            "\n",
            "These are common Git commands used in various situations:\n",
            "\n",
            "start a working area (see also: git help tutorial)\n",
            "   clone     Clone a repository into a new directory\n",
            "   init      Create an empty Git repository or reinitialize an existing one\n",
            "\n",
            "work on the current change (see also: git help everyday)\n",
            "   add       Add file contents to the index\n",
            "   mv        Move or rename a file, a directory, or a symlink\n",
            "   restore   Restore working tree files\n",
            "   rm        Remove files from the working tree and from the index\n",
            "\n",
            "examine the history and state (see also: git help revisions)\n",
            "   bisect    Use binary search to find the commit that introduced a bug\n",
            "   diff      Show changes between commits, commit and working tree, etc\n",
            "   grep      Print lines matching a pattern\n",
            "   log       Show commit logs\n",
            "   show      Show various types of objects\n",
            "   status    Show the working tree status\n",
            "\n",
            "grow, mark and tweak your common history\n",
            "   branch    List, create, or delete branches\n",
            "   commit    Record changes to the repository\n",
            "   merge     Join two or more development histories together\n",
            "   rebase    Reapply commits on top of another base tip\n",
            "   reset     Reset current HEAD to the specified state\n",
            "   switch    Switch branches\n",
            "   tag       Create, list, delete or verify a tag object signed with GPG\n",
            "\n",
            "collaborate (see also: git help workflows)\n",
            "   fetch     Download objects and refs from another repository\n",
            "   pull      Fetch from and integrate with another repository or a local branch\n",
            "   push      Update remote refs along with associated objects\n",
            "\n",
            "'git help -a' and 'git help -g' list available subcommands and some\n",
            "concept guides. See 'git help <command>' or 'git help <concept>'\n",
            "to read about a specific subcommand or concept.\n",
            "See 'git help git' for an overview of the system.\n"
          ]
        }
      ]
    },
    {
      "cell_type": "code",
      "source": [
        "!git remote set-url origin https://github.com/muhammadumair894/github.git\n"
      ],
      "metadata": {
        "id": "La7P_j9WeFkI"
      },
      "execution_count": null,
      "outputs": []
    },
    {
      "cell_type": "code",
      "source": [
        "!git remote add origin https://github.com/muhammadumair894/github.git\n",
        "!git push -u origin master\n"
      ],
      "metadata": {
        "id": "Z-l9Nud6a-ov"
      },
      "execution_count": null,
      "outputs": []
    },
    {
      "cell_type": "markdown",
      "source": [
        "Forking the Repository and Adding New Functionality\n",
        "Fork the Repository:\n",
        "\n",
        "Go to the GitHub page of your repository.\n",
        "Click on the \"Fork\" button in the upper-right corner to create your own copy of the repository.\n",
        "Clone Your Fork Locally:\n",
        "\n",
        "On the forked repo page, click \"Clone\" and copy the URL."
      ],
      "metadata": {
        "id": "R4-eMBfUbEu-"
      }
    },
    {
      "cell_type": "code",
      "source": [
        "!git clone https://github.com/muhammadumair894/github.git\n",
        "\n"
      ],
      "metadata": {
        "colab": {
          "base_uri": "https://localhost:8080/"
        },
        "id": "Tud6C9qGbGIT",
        "outputId": "a7a2dd53-9c64-49a9-89ce-8cf4790c95e2"
      },
      "execution_count": null,
      "outputs": [
        {
          "output_type": "stream",
          "name": "stdout",
          "text": [
            "Cloning into 'github'...\n",
            "warning: You appear to have cloned an empty repository.\n",
            "/bin/bash: line 1: cd: factorial-python: No such file or directory\n"
          ]
        }
      ]
    },
    {
      "cell_type": "code",
      "source": [
        "%cd github"
      ],
      "metadata": {
        "colab": {
          "base_uri": "https://localhost:8080/"
        },
        "id": "Byga6Q7ljGLg",
        "outputId": "8cded9fd-ec00-403e-b368-dcdcc3980446"
      },
      "execution_count": null,
      "outputs": [
        {
          "output_type": "stream",
          "name": "stdout",
          "text": [
            "/content/project/github\n"
          ]
        }
      ]
    },
    {
      "cell_type": "code",
      "source": [
        "#Create a New Branch for the New Feature:\n",
        "\n",
        "#Let's say we want to add functionality to calculate factorials iteratively.\n",
        "\n",
        "!git checkout -b iterative-factorial\n"
      ],
      "metadata": {
        "id": "ZzSNbGSHbL-K"
      },
      "execution_count": null,
      "outputs": []
    },
    {
      "cell_type": "code",
      "source": [
        "def iterative_factorial(n):\n",
        "    result = 1\n",
        "    for i in range(1, n+1):\n",
        "        result *= i\n",
        "    return result\n",
        "#save to factorial.py"
      ],
      "metadata": {
        "id": "DjV6Wo6lbWJu"
      },
      "execution_count": null,
      "outputs": []
    },
    {
      "cell_type": "code",
      "source": [
        "#commit changes\n",
        "!git add factorial.py\n",
        "!git commit -m \"Add iterative factorial function\"\n"
      ],
      "metadata": {
        "id": "pjbll3z2bddB"
      },
      "execution_count": null,
      "outputs": []
    },
    {
      "cell_type": "code",
      "source": [
        "#push to branch\n",
        "!git push origin iterative-factorial\n"
      ],
      "metadata": {
        "id": "_piGqwjwbit6"
      },
      "execution_count": null,
      "outputs": []
    },
    {
      "cell_type": "markdown",
      "source": [
        "Merging Changes Back to Main Branch (Pull Request)\n",
        "Create a Pull Request (PR):\n",
        "\n",
        "Go to the GitHub page of your repository.\n",
        "You should see a message to create a pull request for your iterative-factorial branch.\n",
        "Click \"Compare & Pull Request\", then add a description of your changes.\n",
        "Submit the pull request.\n",
        "Review the Pull Request:\n",
        "\n",
        "You can now review your changes.\n",
        "Once everything looks good, you or someone else can click \"Merge Pull Request\" to merge the changes into the main branch.\n"
      ],
      "metadata": {
        "id": "mkp4Ud3CbyJY"
      }
    }
  ]
}